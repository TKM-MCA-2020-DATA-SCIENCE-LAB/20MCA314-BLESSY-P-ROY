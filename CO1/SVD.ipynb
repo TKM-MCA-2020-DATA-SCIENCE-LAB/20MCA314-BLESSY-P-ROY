{
  "nbformat": 4,
  "nbformat_minor": 0,
  "metadata": {
    "colab": {
      "name": "SVD.ipynb",
      "provenance": []
    },
    "kernelspec": {
      "name": "python3",
      "display_name": "Python 3"
    },
    "language_info": {
      "name": "python"
    }
  },
  "cells": [
    {
      "cell_type": "code",
      "execution_count": 1,
      "metadata": {
        "id": "b2Odbp7kAU5r"
      },
      "outputs": [],
      "source": [
        "import numpy as np\n",
        "from scipy.linalg import svd\n",
        "\n",
        "a=np.arange(1,26).reshape(5,5)\n",
        "U,S,VT=svd(a)"
      ]
    },
    {
      "cell_type": "code",
      "source": [
        "U"
      ],
      "metadata": {
        "colab": {
          "base_uri": "https://localhost:8080/"
        },
        "id": "tEo95oi-AZHo",
        "outputId": "8cfc539d-6a6f-4e3f-dd68-edcf8d72e72f"
      },
      "execution_count": 2,
      "outputs": [
        {
          "output_type": "execute_result",
          "data": {
            "text/plain": [
              "array([[-0.09359323, -0.76892152,  0.61130515,  0.0196316 , -0.16099879],\n",
              "       [-0.24363203, -0.49055421, -0.5142169 , -0.45682855,  0.4763283 ],\n",
              "       [-0.39367083, -0.2121869 , -0.3594458 ,  0.81870773, -0.02272392],\n",
              "       [-0.54370962,  0.06618041, -0.18367831, -0.34545623, -0.73954194],\n",
              "       [-0.69374842,  0.34454772,  0.44603585, -0.03605456,  0.44693633]])"
            ]
          },
          "metadata": {},
          "execution_count": 2
        }
      ]
    },
    {
      "cell_type": "code",
      "source": [
        "S"
      ],
      "metadata": {
        "colab": {
          "base_uri": "https://localhost:8080/"
        },
        "id": "NdSr6jyjAZEL",
        "outputId": "d81fa938-a990-4836-b2f8-6c8c2d0c470d"
      },
      "execution_count": 3,
      "outputs": [
        {
          "output_type": "execute_result",
          "data": {
            "text/plain": [
              "array([7.42540539e+01, 3.36681954e+00, 2.98266488e-15, 1.53916447e-15,\n",
              "       2.08136977e-16])"
            ]
          },
          "metadata": {},
          "execution_count": 3
        }
      ]
    },
    {
      "cell_type": "code",
      "source": [
        "VT"
      ],
      "metadata": {
        "colab": {
          "base_uri": "https://localhost:8080/"
        },
        "id": "9gEg3VgfAZBk",
        "outputId": "5ec85696-5db3-420f-a24b-cd5ceffc58e4"
      },
      "execution_count": 4,
      "outputs": [
        {
          "output_type": "execute_result",
          "data": {
            "text/plain": [
              "array([[-0.39262281, -0.41913118, -0.44563955, -0.47214793, -0.4986563 ],\n",
              "       [ 0.667718  ,  0.35260325,  0.0374885 , -0.27762625, -0.592741  ],\n",
              "       [ 0.5359956 , -0.50603463, -0.52349916,  0.42111979,  0.0724184 ],\n",
              "       [-0.33541664,  0.36000724, -0.21070021,  0.68304527, -0.49693566],\n",
              "       [ 0.01429645, -0.56064583,  0.69394096,  0.23686977, -0.38446135]])"
            ]
          },
          "metadata": {},
          "execution_count": 4
        }
      ]
    },
    {
      "cell_type": "code",
      "source": [
        "U,S,VT=svd(a,full_matrices=True)"
      ],
      "metadata": {
        "id": "ppBfK5plAY_A"
      },
      "execution_count": 5,
      "outputs": []
    },
    {
      "cell_type": "code",
      "source": [
        "U"
      ],
      "metadata": {
        "colab": {
          "base_uri": "https://localhost:8080/"
        },
        "id": "UInbSB0CAY5y",
        "outputId": "5ab451a5-434d-498c-f701-5a63c534c50f"
      },
      "execution_count": 6,
      "outputs": [
        {
          "output_type": "execute_result",
          "data": {
            "text/plain": [
              "array([[-0.09359323, -0.76892152,  0.61130515,  0.0196316 , -0.16099879],\n",
              "       [-0.24363203, -0.49055421, -0.5142169 , -0.45682855,  0.4763283 ],\n",
              "       [-0.39367083, -0.2121869 , -0.3594458 ,  0.81870773, -0.02272392],\n",
              "       [-0.54370962,  0.06618041, -0.18367831, -0.34545623, -0.73954194],\n",
              "       [-0.69374842,  0.34454772,  0.44603585, -0.03605456,  0.44693633]])"
            ]
          },
          "metadata": {},
          "execution_count": 6
        }
      ]
    },
    {
      "cell_type": "code",
      "source": [
        "U,S,VT=svd(a,full_matrices=False)\n",
        "U"
      ],
      "metadata": {
        "colab": {
          "base_uri": "https://localhost:8080/"
        },
        "id": "JahMLIAzAY1i",
        "outputId": "35c8ab4e-d8e9-45be-c59e-b7e791d90783"
      },
      "execution_count": 7,
      "outputs": [
        {
          "output_type": "execute_result",
          "data": {
            "text/plain": [
              "array([[-0.09359323, -0.76892152,  0.61130515,  0.0196316 , -0.16099879],\n",
              "       [-0.24363203, -0.49055421, -0.5142169 , -0.45682855,  0.4763283 ],\n",
              "       [-0.39367083, -0.2121869 , -0.3594458 ,  0.81870773, -0.02272392],\n",
              "       [-0.54370962,  0.06618041, -0.18367831, -0.34545623, -0.73954194],\n",
              "       [-0.69374842,  0.34454772,  0.44603585, -0.03605456,  0.44693633]])"
            ]
          },
          "metadata": {},
          "execution_count": 7
        }
      ]
    },
    {
      "cell_type": "code",
      "source": [
        "from numpy import diag\n",
        "from numpy import dot\n",
        "a=(U@np.diag(S)@VT)\n",
        "a"
      ],
      "metadata": {
        "colab": {
          "base_uri": "https://localhost:8080/"
        },
        "id": "CkwgKcfdAmz4",
        "outputId": "e5715e25-fc41-401c-f879-698efc7dacaa"
      },
      "execution_count": 8,
      "outputs": [
        {
          "output_type": "execute_result",
          "data": {
            "text/plain": [
              "array([[ 1.,  2.,  3.,  4.,  5.],\n",
              "       [ 6.,  7.,  8.,  9., 10.],\n",
              "       [11., 12., 13., 14., 15.],\n",
              "       [16., 17., 18., 19., 20.],\n",
              "       [21., 22., 23., 24., 25.]])"
            ]
          },
          "metadata": {},
          "execution_count": 8
        }
      ]
    }
  ]
}