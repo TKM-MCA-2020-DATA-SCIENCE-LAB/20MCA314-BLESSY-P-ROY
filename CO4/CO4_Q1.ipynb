{
  "nbformat": 4,
  "nbformat_minor": 0,
  "metadata": {
    "colab": {
      "name": "CO4_Q1.ipynb",
      "provenance": []
    },
    "kernelspec": {
      "name": "python3",
      "display_name": "Python 3"
    },
    "language_info": {
      "name": "python"
    }
  },
  "cells": [
    {
      "cell_type": "code",
      "execution_count": 1,
      "metadata": {
        "id": "S5AlZHtOxXt1"
      },
      "outputs": [],
      "source": [
        "import keras\n",
        "from keras.datasets import mnist\n",
        "from keras.models import Sequential\n",
        "from keras.layers import Dense\n",
        "from tensorflow.keras.optimizers import SGD\n",
        "from matplotlib import pyplot as plt"
      ]
    },
    {
      "cell_type": "code",
      "source": [
        "(X_train,Y_train),(X_valid,Y_valid)=mnist.load_data()"
      ],
      "metadata": {
        "colab": {
          "base_uri": "https://localhost:8080/"
        },
        "id": "IfhIFRsZxgB_",
        "outputId": "f98e4d42-6007-4581-a203-52563ed8a4c9"
      },
      "execution_count": 2,
      "outputs": [
        {
          "output_type": "stream",
          "name": "stdout",
          "text": [
            "Downloading data from https://storage.googleapis.com/tensorflow/tf-keras-datasets/mnist.npz\n",
            "11493376/11490434 [==============================] - 0s 0us/step\n",
            "11501568/11490434 [==============================] - 0s 0us/step\n"
          ]
        }
      ]
    },
    {
      "cell_type": "code",
      "source": [
        "type(X_train)"
      ],
      "metadata": {
        "colab": {
          "base_uri": "https://localhost:8080/"
        },
        "id": "L7AZrh8ixf_K",
        "outputId": "1c56113b-4d45-4270-bf9a-ecd7be09c8a3"
      },
      "execution_count": 3,
      "outputs": [
        {
          "output_type": "execute_result",
          "data": {
            "text/plain": [
              "numpy.ndarray"
            ]
          },
          "metadata": {},
          "execution_count": 3
        }
      ]
    },
    {
      "cell_type": "code",
      "source": [
        "Y_train.shape"
      ],
      "metadata": {
        "colab": {
          "base_uri": "https://localhost:8080/"
        },
        "id": "kcUnSV5Gxf8R",
        "outputId": "38a2d943-bb31-46ad-d616-cdee64eea16e"
      },
      "execution_count": 4,
      "outputs": [
        {
          "output_type": "execute_result",
          "data": {
            "text/plain": [
              "(60000,)"
            ]
          },
          "metadata": {},
          "execution_count": 4
        }
      ]
    },
    {
      "cell_type": "code",
      "source": [
        "Y_train[0:12]"
      ],
      "metadata": {
        "colab": {
          "base_uri": "https://localhost:8080/"
        },
        "id": "Z3MLX_YKxf5_",
        "outputId": "1d52ccfb-56f2-41ca-bacd-498f9be3b43f"
      },
      "execution_count": 5,
      "outputs": [
        {
          "output_type": "execute_result",
          "data": {
            "text/plain": [
              "array([5, 0, 4, 1, 9, 2, 1, 3, 1, 4, 3, 5], dtype=uint8)"
            ]
          },
          "metadata": {},
          "execution_count": 5
        }
      ]
    },
    {
      "cell_type": "code",
      "source": [
        "plt.figure(figsize=(5,5))\n",
        "for k in range(20):\n",
        "  plt.subplot(10,2,k+1)\n",
        "  plt.imshow(X_train[k],cmap='Greys_r')\n",
        "  plt.axis('off')\n",
        "  plt.show"
      ],
      "metadata": {
        "colab": {
          "base_uri": "https://localhost:8080/",
          "height": 303
        },
        "id": "ZELk7-sixf2z",
        "outputId": "31abc9fe-b99b-4c08-da32-18ff91c67496"
      },
      "execution_count": 6,
      "outputs": [
        {
          "output_type": "display_data",
          "data": {
            "image/png": "[encoded data removed]",
            "text/plain": [
              "<Figure size 360x360 with 20 Axes>"
            ]
          },
          "metadata": {
            "needs_background": "light"
          }
        }
      ]
    },
    {
      "cell_type": "code",
      "source": [
        "plt.figure(figsize=(5,5))\n",
        "for k in range(20):\n",
        "  plt.subplot(10,2,k+1)\n",
        "  plt.imshow(X_train[k],cmap='Greys')\n",
        "  plt.axis('off')\n",
        "  plt.show"
      ],
      "metadata": {
        "colab": {
          "base_uri": "https://localhost:8080/",
          "height": 303
        },
        "id": "GI68mjJ3xf0W",
        "outputId": "a95ccd1a-e5de-4828-eb67-e819b21a2494"
      },
      "execution_count": 7,
      "outputs": [
        {
          "output_type": "display_data",
          "data": {
            "image/png": "[encoded data removed]",
            "text/plain": [
              "<Figure size 360x360 with 20 Axes>"
            ]
          },
          "metadata": {
            "needs_background": "light"
          }
        }
      ]
    },
    {
      "cell_type": "code",
      "source": [
        "plt.figure(figsize=(5,5))\n",
        "for k in range(20):\n",
        "  plt.subplot(10,2,k+1)\n",
        "  plt.imshow(X_train[k],cmap='Greys_r')\n",
        "  plt.axis('on')\n",
        "  plt.show\n"
      ],
      "metadata": {
        "colab": {
          "base_uri": "https://localhost:8080/",
          "height": 323
        },
        "id": "-7XWBN8Yxfw5",
        "outputId": "e05c1760-27d5-4262-dbe2-18ce30e4fad4"
      },
      "execution_count": 8,
      "outputs": [
        {
          "output_type": "display_data",
          "data": {
            "image/png": "[encoded data removed]",
            "text/plain": [
              "<Figure size 360x360 with 20 Axes>"
            ]
          },
          "metadata": {
            "needs_background": "light"
          }
        }
      ]
    },
    {
      "cell_type": "code",
      "source": [
        "Y_valid.shape"
      ],
      "metadata": {
        "colab": {
          "base_uri": "https://localhost:8080/"
        },
        "id": "1jxEMImlxfuM",
        "outputId": "6aaf8b11-0d4f-4534-e396-b969478be174"
      },
      "execution_count": 9,
      "outputs": [
        {
          "output_type": "execute_result",
          "data": {
            "text/plain": [
              "(10000,)"
            ]
          },
          "metadata": {},
          "execution_count": 9
        }
      ]
    },
    {
      "cell_type": "code",
      "source": [
        "X_valid.shape"
      ],
      "metadata": {
        "colab": {
          "base_uri": "https://localhost:8080/"
        },
        "id": "1VM8gna2xfrK",
        "outputId": "3b6e99d5-d3fe-4450-9810-08c21e902300"
      },
      "execution_count": 10,
      "outputs": [
        {
          "output_type": "execute_result",
          "data": {
            "text/plain": [
              "(10000, 28, 28)"
            ]
          },
          "metadata": {},
          "execution_count": 10
        }
      ]
    },
    {
      "cell_type": "code",
      "source": [
        "plt.imshow(X_valid[3],cmap='Greys')"
      ],
      "metadata": {
        "colab": {
          "base_uri": "https://localhost:8080/",
          "height": 282
        },
        "id": "YSWk1rvDxfn5",
        "outputId": "ec93ca3c-cc89-4bd1-eed1-46c70dc322e3"
      },
      "execution_count": 11,
      "outputs": [
        {
          "output_type": "execute_result",
          "data": {
            "text/plain": [
              "<matplotlib.image.AxesImage at 0x7face1a39550>"
            ]
          },
          "metadata": {},
          "execution_count": 11
        },
        {
          "output_type": "display_data",
          "data": {
            "image/png": "[encoded data removed]",
            "text/plain": [
              "<Figure size 432x288 with 1 Axes>"
            ]
          },
          "metadata": {
            "needs_background": "light"
          }
        }
      ]
    },
    {
      "cell_type": "code",
      "source": [
        "X_valid[3]"
      ],
      "metadata": {
        "colab": {
          "base_uri": "https://localhost:8080/"
        },
        "id": "aclSqLCUxfiu",
        "outputId": "45bb9892-2cdb-426a-f18f-01f51fc57bee"
      },
      "execution_count": 12,
      "outputs": [
        {
          "output_type": "execute_result",
          "data": {
            "text/plain": [
              "array([[  0,   0,   0,   0,   0,   0,   0,   0,   0,   0,   0,   0,   0,\n",
              "          0,   0,   0,   0,   0,   0,   0,   0,   0,   0,   0,   0,   0,\n",
              "          0,   0],\n",
              "       [  0,   0,   0,   0,   0,   0,   0,   0,   0,   0,   0,   0,   0,\n",
              "          0,   0,   0,   0,   0,   0,   0,   0,   0,   0,   0,   0,   0,\n",
              "          0,   0],\n",
              "       [  0,   0,   0,   0,   0,   0,   0,   0,   0,   0,   0,   0,   0,\n",
              "          0,   0,   0,   0,   0,   0,   0,   0,   0,   0,   0,   0,   0,\n",
              "          0,   0],\n",
              "       [  0,   0,   0,   0,   0,   0,   0,   0,   0,   0,   0,   0,   0,\n",
              "          0,   0,   0,   0,   0,   0,   0,   0,   0,   0,   0,   0,   0,\n",
              "          0,   0],\n",
              "       [  0,   0,   0,   0,   0,   0,   0,   0,   0,   0,   0,   0,  11,\n",
              "        150, 253, 202,  31,   0,   0,   0,   0,   0,   0,   0,   0,   0,\n",
              "          0,   0],\n",
              "       [  0,   0,   0,   0,   0,   0,   0,   0,   0,   0,   0,   0,  37,\n",
              "        251, 251, 253, 107,   0,   0,   0,   0,   0,   0,   0,   0,   0,\n",
              "          0,   0],\n",
              "       [  0,   0,   0,   0,   0,   0,   0,   0,   0,   0,   0,  21, 197,\n",
              "        251, 251, 253, 107,   0,   0,   0,   0,   0,   0,   0,   0,   0,\n",
              "          0,   0],\n",
              "       [  0,   0,   0,   0,   0,   0,   0,   0,   0,   0, 110, 190, 251,\n",
              "        251, 251, 253, 169, 109,  62,   0,   0,   0,   0,   0,   0,   0,\n",
              "          0,   0],\n",
              "       [  0,   0,   0,   0,   0,   0,   0,   0,   0,   0, 253, 251, 251,\n",
              "        251, 251, 253, 251, 251, 220,  51,   0,   0,   0,   0,   0,   0,\n",
              "          0,   0],\n",
              "       [  0,   0,   0,   0,   0,   0,   0,   0,   0, 182, 255, 253, 253,\n",
              "        253, 253, 234, 222, 253, 253, 253,   0,   0,   0,   0,   0,   0,\n",
              "          0,   0],\n",
              "       [  0,   0,   0,   0,   0,   0,   0,   0,  63, 221, 253, 251, 251,\n",
              "        251, 147,  77,  62, 128, 251, 251, 105,   0,   0,   0,   0,   0,\n",
              "          0,   0],\n",
              "       [  0,   0,   0,   0,   0,   0,   0,  32, 231, 251, 253, 251, 220,\n",
              "        137,  10,   0,   0,  31, 230, 251, 243, 113,   5,   0,   0,   0,\n",
              "          0,   0],\n",
              "       [  0,   0,   0,   0,   0,   0,   0,  37, 251, 251, 253, 188,  20,\n",
              "          0,   0,   0,   0,   0, 109, 251, 253, 251,  35,   0,   0,   0,\n",
              "          0,   0],\n",
              "       [  0,   0,   0,   0,   0,   0,   0,  37, 251, 251, 201,  30,   0,\n",
              "          0,   0,   0,   0,   0,  31, 200, 253, 251,  35,   0,   0,   0,\n",
              "          0,   0],\n",
              "       [  0,   0,   0,   0,   0,   0,   0,  37, 253, 253,   0,   0,   0,\n",
              "          0,   0,   0,   0,   0,  32, 202, 255, 253, 164,   0,   0,   0,\n",
              "          0,   0],\n",
              "       [  0,   0,   0,   0,   0,   0,   0, 140, 251, 251,   0,   0,   0,\n",
              "          0,   0,   0,   0,   0, 109, 251, 253, 251,  35,   0,   0,   0,\n",
              "          0,   0],\n",
              "       [  0,   0,   0,   0,   0,   0,   0, 217, 251, 251,   0,   0,   0,\n",
              "          0,   0,   0,  21,  63, 231, 251, 253, 230,  30,   0,   0,   0,\n",
              "          0,   0],\n",
              "       [  0,   0,   0,   0,   0,   0,   0, 217, 251, 251,   0,   0,   0,\n",
              "          0,   0,   0, 144, 251, 251, 251, 221,  61,   0,   0,   0,   0,\n",
              "          0,   0],\n",
              "       [  0,   0,   0,   0,   0,   0,   0, 217, 251, 251,   0,   0,   0,\n",
              "          0,   0, 182, 221, 251, 251, 251, 180,   0,   0,   0,   0,   0,\n",
              "          0,   0],\n",
              "       [  0,   0,   0,   0,   0,   0,   0, 218, 253, 253,  73,  73, 228,\n",
              "        253, 253, 255, 253, 253, 253, 253,   0,   0,   0,   0,   0,   0,\n",
              "          0,   0],\n",
              "       [  0,   0,   0,   0,   0,   0,   0, 113, 251, 251, 253, 251, 251,\n",
              "        251, 251, 253, 251, 251, 251, 147,   0,   0,   0,   0,   0,   0,\n",
              "          0,   0],\n",
              "       [  0,   0,   0,   0,   0,   0,   0,  31, 230, 251, 253, 251, 251,\n",
              "        251, 251, 253, 230, 189,  35,  10,   0,   0,   0,   0,   0,   0,\n",
              "          0,   0],\n",
              "       [  0,   0,   0,   0,   0,   0,   0,   0,  62, 142, 253, 251, 251,\n",
              "        251, 251, 253, 107,   0,   0,   0,   0,   0,   0,   0,   0,   0,\n",
              "          0,   0],\n",
              "       [  0,   0,   0,   0,   0,   0,   0,   0,   0,   0,  72, 174, 251,\n",
              "        173,  71,  72,  30,   0,   0,   0,   0,   0,   0,   0,   0,   0,\n",
              "          0,   0],\n",
              "       [  0,   0,   0,   0,   0,   0,   0,   0,   0,   0,   0,   0,   0,\n",
              "          0,   0,   0,   0,   0,   0,   0,   0,   0,   0,   0,   0,   0,\n",
              "          0,   0],\n",
              "       [  0,   0,   0,   0,   0,   0,   0,   0,   0,   0,   0,   0,   0,\n",
              "          0,   0,   0,   0,   0,   0,   0,   0,   0,   0,   0,   0,   0,\n",
              "          0,   0],\n",
              "       [  0,   0,   0,   0,   0,   0,   0,   0,   0,   0,   0,   0,   0,\n",
              "          0,   0,   0,   0,   0,   0,   0,   0,   0,   0,   0,   0,   0,\n",
              "          0,   0],\n",
              "       [  0,   0,   0,   0,   0,   0,   0,   0,   0,   0,   0,   0,   0,\n",
              "          0,   0,   0,   0,   0,   0,   0,   0,   0,   0,   0,   0,   0,\n",
              "          0,   0]], dtype=uint8)"
            ]
          },
          "metadata": {},
          "execution_count": 12
        }
      ]
    },
    {
      "cell_type": "code",
      "source": [
        "Y_valid[3]"
      ],
      "metadata": {
        "colab": {
          "base_uri": "https://localhost:8080/"
        },
        "id": "PONXd4bZxfhC",
        "outputId": "40f73795-0b67-4f73-df28-199de438082b"
      },
      "execution_count": 13,
      "outputs": [
        {
          "output_type": "execute_result",
          "data": {
            "text/plain": [
              "0"
            ]
          },
          "metadata": {},
          "execution_count": 13
        }
      ]
    },
    {
      "cell_type": "code",
      "source": [
        "X_train=X_train.reshape(60000,784).astype('float32')\n",
        "X_valid=X_valid.reshape(10000,784).astype('float32')"
      ],
      "metadata": {
        "id": "4fNY1GUuyES3"
      },
      "execution_count": 14,
      "outputs": []
    },
    {
      "cell_type": "code",
      "source": [
        "X_train /=255\n",
        "X_valid /=255"
      ],
      "metadata": {
        "id": "QIJvFNr2yEPD"
      },
      "execution_count": 15,
      "outputs": []
    },
    {
      "cell_type": "code",
      "source": [
        "X_valid[3]"
      ],
      "metadata": {
        "colab": {
          "base_uri": "https://localhost:8080/"
        },
        "id": "Ef-hITpxyEM2",
        "outputId": "fe49c649-e5c3-4504-cf38-a68e3acb8d93"
      },
      "execution_count": 16,
      "outputs": [
        {
          "output_type": "execute_result",
          "data": {
            "text/plain": [
              "array([0.        , 0.        , 0.        , 0.        , 0.        ,\n",
              "       0.        , 0.        , 0.        , 0.        , 0.        ,\n",
              "       0.        , 0.        , 0.        , 0.        , 0.        ,\n",
              "       0.        , 0.        , 0.        , 0.        , 0.        ,\n",
              "       0.        , 0.        , 0.        , 0.        , 0.        ,\n",
              "       0.        , 0.        , 0.        , 0.        , 0.        ,\n",
              "       0.        , 0.        , 0.        , 0.        , 0.        ,\n",
              "       0.        , 0.        , 0.        , 0.        , 0.        ,\n",
              "       0.        , 0.        , 0.        , 0.        , 0.        ,\n",
              "       0.        , 0.        , 0.        , 0.        , 0.        ,\n",
              "       0.        , 0.        , 0.        , 0.        , 0.        ,\n",
              "       0.        , 0.        , 0.        , 0.        , 0.        ,\n",
              "       0.        , 0.        , 0.        , 0.        , 0.        ,\n",
              "       0.        , 0.        , 0.        , 0.        , 0.        ,\n",
              "       0.        , 0.        , 0.        , 0.        , 0.        ,\n",
              "       0.        , 0.        , 0.        , 0.        , 0.        ,\n",
              "       0.        , 0.        , 0.        , 0.        , 0.        ,\n",
              "       0.        , 0.        , 0.        , 0.        , 0.        ,\n",
              "       0.        , 0.        , 0.        , 0.        , 0.        ,\n",
              "       0.        , 0.        , 0.        , 0.        , 0.        ,\n",
              "       0.        , 0.        , 0.        , 0.        , 0.        ,\n",
              "       0.        , 0.        , 0.        , 0.        , 0.        ,\n",
              "       0.        , 0.        , 0.        , 0.        , 0.        ,\n",
              "       0.        , 0.        , 0.        , 0.        , 0.        ,\n",
              "       0.        , 0.        , 0.        , 0.        , 0.04313726,\n",
              "       0.5882353 , 0.99215686, 0.7921569 , 0.12156863, 0.        ,\n",
              "       0.        , 0.        , 0.        , 0.        , 0.        ,\n",
              "       0.        , 0.        , 0.        , 0.        , 0.        ,\n",
              "       0.        , 0.        , 0.        , 0.        , 0.        ,\n",
              "       0.        , 0.        , 0.        , 0.        , 0.        ,\n",
              "       0.        , 0.        , 0.14509805, 0.9843137 , 0.9843137 ,\n",
              "       0.99215686, 0.41960785, 0.        , 0.        , 0.        ,\n",
              "       0.        , 0.        , 0.        , 0.        , 0.        ,\n",
              "       0.        , 0.        , 0.        , 0.        , 0.        ,\n",
              "       0.        , 0.        , 0.        , 0.        , 0.        ,\n",
              "       0.        , 0.        , 0.        , 0.        , 0.08235294,\n",
              "       0.77254903, 0.9843137 , 0.9843137 , 0.99215686, 0.41960785,\n",
              "       0.        , 0.        , 0.        , 0.        , 0.        ,\n",
              "       0.        , 0.        , 0.        , 0.        , 0.        ,\n",
              "       0.        , 0.        , 0.        , 0.        , 0.        ,\n",
              "       0.        , 0.        , 0.        , 0.        , 0.        ,\n",
              "       0.        , 0.43137255, 0.74509805, 0.9843137 , 0.9843137 ,\n",
              "       0.9843137 , 0.99215686, 0.6627451 , 0.42745098, 0.24313726,\n",
              "       0.        , 0.        , 0.        , 0.        , 0.        ,\n",
              "       0.        , 0.        , 0.        , 0.        , 0.        ,\n",
              "       0.        , 0.        , 0.        , 0.        , 0.        ,\n",
              "       0.        , 0.        , 0.        , 0.        , 0.99215686,\n",
              "       0.9843137 , 0.9843137 , 0.9843137 , 0.9843137 , 0.99215686,\n",
              "       0.9843137 , 0.9843137 , 0.8627451 , 0.2       , 0.        ,\n",
              "       0.        , 0.        , 0.        , 0.        , 0.        ,\n",
              "       0.        , 0.        , 0.        , 0.        , 0.        ,\n",
              "       0.        , 0.        , 0.        , 0.        , 0.        ,\n",
              "       0.        , 0.7137255 , 1.        , 0.99215686, 0.99215686,\n",
              "       0.99215686, 0.99215686, 0.91764706, 0.87058824, 0.99215686,\n",
              "       0.99215686, 0.99215686, 0.        , 0.        , 0.        ,\n",
              "       0.        , 0.        , 0.        , 0.        , 0.        ,\n",
              "       0.        , 0.        , 0.        , 0.        , 0.        ,\n",
              "       0.        , 0.        , 0.        , 0.24705882, 0.8666667 ,\n",
              "       0.99215686, 0.9843137 , 0.9843137 , 0.9843137 , 0.5764706 ,\n",
              "       0.3019608 , 0.24313726, 0.5019608 , 0.9843137 , 0.9843137 ,\n",
              "       0.4117647 , 0.        , 0.        , 0.        , 0.        ,\n",
              "       0.        , 0.        , 0.        , 0.        , 0.        ,\n",
              "       0.        , 0.        , 0.        , 0.        , 0.        ,\n",
              "       0.1254902 , 0.90588236, 0.9843137 , 0.99215686, 0.9843137 ,\n",
              "       0.8627451 , 0.5372549 , 0.03921569, 0.        , 0.        ,\n",
              "       0.12156863, 0.9019608 , 0.9843137 , 0.9529412 , 0.44313726,\n",
              "       0.01960784, 0.        , 0.        , 0.        , 0.        ,\n",
              "       0.        , 0.        , 0.        , 0.        , 0.        ,\n",
              "       0.        , 0.        , 0.        , 0.14509805, 0.9843137 ,\n",
              "       0.9843137 , 0.99215686, 0.7372549 , 0.07843138, 0.        ,\n",
              "       0.        , 0.        , 0.        , 0.        , 0.42745098,\n",
              "       0.9843137 , 0.99215686, 0.9843137 , 0.13725491, 0.        ,\n",
              "       0.        , 0.        , 0.        , 0.        , 0.        ,\n",
              "       0.        , 0.        , 0.        , 0.        , 0.        ,\n",
              "       0.        , 0.14509805, 0.9843137 , 0.9843137 , 0.7882353 ,\n",
              "       0.11764706, 0.        , 0.        , 0.        , 0.        ,\n",
              "       0.        , 0.        , 0.12156863, 0.78431374, 0.99215686,\n",
              "       0.9843137 , 0.13725491, 0.        , 0.        , 0.        ,\n",
              "       0.        , 0.        , 0.        , 0.        , 0.        ,\n",
              "       0.        , 0.        , 0.        , 0.        , 0.14509805,\n",
              "       0.99215686, 0.99215686, 0.        , 0.        , 0.        ,\n",
              "       0.        , 0.        , 0.        , 0.        , 0.        ,\n",
              "       0.1254902 , 0.7921569 , 1.        , 0.99215686, 0.6431373 ,\n",
              "       0.        , 0.        , 0.        , 0.        , 0.        ,\n",
              "       0.        , 0.        , 0.        , 0.        , 0.        ,\n",
              "       0.        , 0.        , 0.54901963, 0.9843137 , 0.9843137 ,\n",
              "       0.        , 0.        , 0.        , 0.        , 0.        ,\n",
              "       0.        , 0.        , 0.        , 0.42745098, 0.9843137 ,\n",
              "       0.99215686, 0.9843137 , 0.13725491, 0.        , 0.        ,\n",
              "       0.        , 0.        , 0.        , 0.        , 0.        ,\n",
              "       0.        , 0.        , 0.        , 0.        , 0.        ,\n",
              "       0.8509804 , 0.9843137 , 0.9843137 , 0.        , 0.        ,\n",
              "       0.        , 0.        , 0.        , 0.        , 0.08235294,\n",
              "       0.24705882, 0.90588236, 0.9843137 , 0.99215686, 0.9019608 ,\n",
              "       0.11764706, 0.        , 0.        , 0.        , 0.        ,\n",
              "       0.        , 0.        , 0.        , 0.        , 0.        ,\n",
              "       0.        , 0.        , 0.        , 0.8509804 , 0.9843137 ,\n",
              "       0.9843137 , 0.        , 0.        , 0.        , 0.        ,\n",
              "       0.        , 0.        , 0.5647059 , 0.9843137 , 0.9843137 ,\n",
              "       0.9843137 , 0.8666667 , 0.23921569, 0.        , 0.        ,\n",
              "       0.        , 0.        , 0.        , 0.        , 0.        ,\n",
              "       0.        , 0.        , 0.        , 0.        , 0.        ,\n",
              "       0.        , 0.8509804 , 0.9843137 , 0.9843137 , 0.        ,\n",
              "       0.        , 0.        , 0.        , 0.        , 0.7137255 ,\n",
              "       0.8666667 , 0.9843137 , 0.9843137 , 0.9843137 , 0.7058824 ,\n",
              "       0.        , 0.        , 0.        , 0.        , 0.        ,\n",
              "       0.        , 0.        , 0.        , 0.        , 0.        ,\n",
              "       0.        , 0.        , 0.        , 0.        , 0.85490197,\n",
              "       0.99215686, 0.99215686, 0.28627452, 0.28627452, 0.89411765,\n",
              "       0.99215686, 0.99215686, 1.        , 0.99215686, 0.99215686,\n",
              "       0.99215686, 0.99215686, 0.        , 0.        , 0.        ,\n",
              "       0.        , 0.        , 0.        , 0.        , 0.        ,\n",
              "       0.        , 0.        , 0.        , 0.        , 0.        ,\n",
              "       0.        , 0.        , 0.44313726, 0.9843137 , 0.9843137 ,\n",
              "       0.99215686, 0.9843137 , 0.9843137 , 0.9843137 , 0.9843137 ,\n",
              "       0.99215686, 0.9843137 , 0.9843137 , 0.9843137 , 0.5764706 ,\n",
              "       0.        , 0.        , 0.        , 0.        , 0.        ,\n",
              "       0.        , 0.        , 0.        , 0.        , 0.        ,\n",
              "       0.        , 0.        , 0.        , 0.        , 0.        ,\n",
              "       0.12156863, 0.9019608 , 0.9843137 , 0.99215686, 0.9843137 ,\n",
              "       0.9843137 , 0.9843137 , 0.9843137 , 0.99215686, 0.9019608 ,\n",
              "       0.7411765 , 0.13725491, 0.03921569, 0.        , 0.        ,\n",
              "       0.        , 0.        , 0.        , 0.        , 0.        ,\n",
              "       0.        , 0.        , 0.        , 0.        , 0.        ,\n",
              "       0.        , 0.        , 0.        , 0.        , 0.24313726,\n",
              "       0.5568628 , 0.99215686, 0.9843137 , 0.9843137 , 0.9843137 ,\n",
              "       0.9843137 , 0.99215686, 0.41960785, 0.        , 0.        ,\n",
              "       0.        , 0.        , 0.        , 0.        , 0.        ,\n",
              "       0.        , 0.        , 0.        , 0.        , 0.        ,\n",
              "       0.        , 0.        , 0.        , 0.        , 0.        ,\n",
              "       0.        , 0.        , 0.        , 0.        , 0.28235295,\n",
              "       0.68235296, 0.9843137 , 0.6784314 , 0.2784314 , 0.28235295,\n",
              "       0.11764706, 0.        , 0.        , 0.        , 0.        ,\n",
              "       0.        , 0.        , 0.        , 0.        , 0.        ,\n",
              "       0.        , 0.        , 0.        , 0.        , 0.        ,\n",
              "       0.        , 0.        , 0.        , 0.        , 0.        ,\n",
              "       0.        , 0.        , 0.        , 0.        , 0.        ,\n",
              "       0.        , 0.        , 0.        , 0.        , 0.        ,\n",
              "       0.        , 0.        , 0.        , 0.        , 0.        ,\n",
              "       0.        , 0.        , 0.        , 0.        , 0.        ,\n",
              "       0.        , 0.        , 0.        , 0.        , 0.        ,\n",
              "       0.        , 0.        , 0.        , 0.        , 0.        ,\n",
              "       0.        , 0.        , 0.        , 0.        , 0.        ,\n",
              "       0.        , 0.        , 0.        , 0.        , 0.        ,\n",
              "       0.        , 0.        , 0.        , 0.        , 0.        ,\n",
              "       0.        , 0.        , 0.        , 0.        , 0.        ,\n",
              "       0.        , 0.        , 0.        , 0.        , 0.        ,\n",
              "       0.        , 0.        , 0.        , 0.        , 0.        ,\n",
              "       0.        , 0.        , 0.        , 0.        , 0.        ,\n",
              "       0.        , 0.        , 0.        , 0.        , 0.        ,\n",
              "       0.        , 0.        , 0.        , 0.        , 0.        ,\n",
              "       0.        , 0.        , 0.        , 0.        , 0.        ,\n",
              "       0.        , 0.        , 0.        , 0.        , 0.        ,\n",
              "       0.        , 0.        , 0.        , 0.        , 0.        ,\n",
              "       0.        , 0.        , 0.        , 0.        , 0.        ,\n",
              "       0.        , 0.        , 0.        , 0.        , 0.        ,\n",
              "       0.        , 0.        , 0.        , 0.        ], dtype=float32)"
            ]
          },
          "metadata": {},
          "execution_count": 16
        }
      ]
    },
    {
      "cell_type": "code",
      "source": [
        "from keras import utils as np_utils\n",
        "n_classes=10\n",
        "Y_train=keras.utils.np_utils.to_categorical(Y_train,n_classes)\n",
        "Y_valid=keras.utils.np_utils.to_categorical(Y_valid,n_classes)"
      ],
      "metadata": {
        "id": "OJmhcv18yEKH"
      },
      "execution_count": 17,
      "outputs": []
    },
    {
      "cell_type": "code",
      "source": [
        "Y_valid[3]"
      ],
      "metadata": {
        "colab": {
          "base_uri": "https://localhost:8080/"
        },
        "id": "X7aou16byEHm",
        "outputId": "a77e94b1-1ea8-40cd-d3b1-47709b5e6d59"
      },
      "execution_count": 18,
      "outputs": [
        {
          "output_type": "execute_result",
          "data": {
            "text/plain": [
              "array([1., 0., 0., 0., 0., 0., 0., 0., 0., 0.], dtype=float32)"
            ]
          },
          "metadata": {},
          "execution_count": 18
        }
      ]
    },
    {
      "cell_type": "code",
      "source": [
        "Y_train[3]"
      ],
      "metadata": {
        "colab": {
          "base_uri": "https://localhost:8080/"
        },
        "id": "w41VuxuKyEEo",
        "outputId": "9d06ca4c-0951-4bdb-823b-9ee9fbe12bc3"
      },
      "execution_count": 19,
      "outputs": [
        {
          "output_type": "execute_result",
          "data": {
            "text/plain": [
              "array([0., 1., 0., 0., 0., 0., 0., 0., 0., 0.], dtype=float32)"
            ]
          },
          "metadata": {},
          "execution_count": 19
        }
      ]
    },
    {
      "cell_type": "code",
      "source": [
        "model=Sequential()"
      ],
      "metadata": {
        "id": "LoV6cJa7xfcZ"
      },
      "execution_count": 20,
      "outputs": []
    },
    {
      "cell_type": "code",
      "source": [
        "model.add(Dense(64,activation='sigmoid', input_shape=(784,)))"
      ],
      "metadata": {
        "id": "MNSUllkhybAd"
      },
      "execution_count": 21,
      "outputs": []
    },
    {
      "cell_type": "code",
      "source": [
        "model.add(Dense(10,activation='softmax'))"
      ],
      "metadata": {
        "id": "W9zeHdD1ya83"
      },
      "execution_count": 22,
      "outputs": []
    },
    {
      "cell_type": "code",
      "source": [
        "model.summary()"
      ],
      "metadata": {
        "colab": {
          "base_uri": "https://localhost:8080/"
        },
        "id": "mc73hpstya5s",
        "outputId": "c5ad5f4a-4d0e-4c52-b33a-addc7e590379"
      },
      "execution_count": 23,
      "outputs": [
        {
          "output_type": "stream",
          "name": "stdout",
          "text": [
            "Model: \"sequential\"\n",
            "_________________________________________________________________\n",
            " Layer (type)                Output Shape              Param #   \n",
            "=================================================================\n",
            " dense (Dense)               (None, 64)                50240     \n",
            "                                                                 \n",
            " dense_1 (Dense)             (None, 10)                650       \n",
            "                                                                 \n",
            "=================================================================\n",
            "Total params: 50,890\n",
            "Trainable params: 50,890\n",
            "Non-trainable params: 0\n",
            "_________________________________________________________________\n"
          ]
        }
      ]
    },
    {
      "cell_type": "code",
      "source": [
        "model.compile(loss='mean_squared_error',optimizer=SGD(learning_rate=0.01),metrics=['accuracy'])"
      ],
      "metadata": {
        "id": "gu_XGbQdya06"
      },
      "execution_count": 24,
      "outputs": []
    },
    {
      "cell_type": "code",
      "source": [
        "history=model.fit(X_train, Y_train,batch_size=128,epochs=75,verbose=1)"
      ],
      "metadata": {
        "colab": {
          "base_uri": "https://localhost:8080/"
        },
        "id": "wZY6OAX7yavz",
        "outputId": "51bfdfa4-d403-4b34-f639-9181d1bf8bb3"
      },
      "execution_count": 25,
      "outputs": [
        {
          "output_type": "stream",
          "name": "stdout",
          "text": [
            "Epoch 1/75\n",
            "469/469 [==============================] - 2s 2ms/step - loss: 0.0917 - accuracy: 0.0794\n",
            "Epoch 2/75\n",
            "469/469 [==============================] - 1s 2ms/step - loss: 0.0913 - accuracy: 0.0877\n",
            "Epoch 3/75\n",
            "469/469 [==============================] - 1s 2ms/step - loss: 0.0909 - accuracy: 0.1050\n",
            "Epoch 4/75\n",
            "469/469 [==============================] - 1s 2ms/step - loss: 0.0906 - accuracy: 0.1300\n",
            "Epoch 5/75\n",
            "469/469 [==============================] - 1s 2ms/step - loss: 0.0902 - accuracy: 0.1592\n",
            "Epoch 6/75\n",
            "469/469 [==============================] - 1s 2ms/step - loss: 0.0899 - accuracy: 0.1824\n",
            "Epoch 7/75\n",
            "469/469 [==============================] - 1s 2ms/step - loss: 0.0896 - accuracy: 0.2029\n",
            "Epoch 8/75\n",
            "469/469 [==============================] - 1s 2ms/step - loss: 0.0894 - accuracy: 0.2232\n",
            "Epoch 9/75\n",
            "469/469 [==============================] - 1s 2ms/step - loss: 0.0891 - accuracy: 0.2412\n",
            "Epoch 10/75\n",
            "469/469 [==============================] - 1s 2ms/step - loss: 0.0888 - accuracy: 0.2575\n",
            "Epoch 11/75\n",
            "469/469 [==============================] - 1s 2ms/step - loss: 0.0885 - accuracy: 0.2732\n",
            "Epoch 12/75\n",
            "469/469 [==============================] - 1s 2ms/step - loss: 0.0882 - accuracy: 0.2886\n",
            "Epoch 13/75\n",
            "469/469 [==============================] - 1s 2ms/step - loss: 0.0879 - accuracy: 0.3019\n",
            "Epoch 14/75\n",
            "469/469 [==============================] - 1s 2ms/step - loss: 0.0877 - accuracy: 0.3128\n",
            "Epoch 15/75\n",
            "469/469 [==============================] - 1s 2ms/step - loss: 0.0874 - accuracy: 0.3220\n",
            "Epoch 16/75\n",
            "469/469 [==============================] - 1s 2ms/step - loss: 0.0871 - accuracy: 0.3300\n",
            "Epoch 17/75\n",
            "469/469 [==============================] - 1s 3ms/step - loss: 0.0868 - accuracy: 0.3366\n",
            "Epoch 18/75\n",
            "469/469 [==============================] - 2s 4ms/step - loss: 0.0865 - accuracy: 0.3429\n",
            "Epoch 19/75\n",
            "469/469 [==============================] - 2s 4ms/step - loss: 0.0862 - accuracy: 0.3473\n",
            "Epoch 20/75\n",
            "469/469 [==============================] - 1s 3ms/step - loss: 0.0859 - accuracy: 0.3512\n",
            "Epoch 21/75\n",
            "469/469 [==============================] - 1s 2ms/step - loss: 0.0856 - accuracy: 0.3563\n",
            "Epoch 22/75\n",
            "469/469 [==============================] - 1s 3ms/step - loss: 0.0853 - accuracy: 0.3599\n",
            "Epoch 23/75\n",
            "469/469 [==============================] - 1s 3ms/step - loss: 0.0850 - accuracy: 0.3633\n",
            "Epoch 24/75\n",
            "469/469 [==============================] - 1s 2ms/step - loss: 0.0846 - accuracy: 0.3665\n",
            "Epoch 25/75\n",
            "469/469 [==============================] - 1s 2ms/step - loss: 0.0843 - accuracy: 0.3698\n",
            "Epoch 26/75\n",
            "469/469 [==============================] - 1s 2ms/step - loss: 0.0840 - accuracy: 0.3706\n",
            "Epoch 27/75\n",
            "469/469 [==============================] - 1s 2ms/step - loss: 0.0836 - accuracy: 0.3744\n",
            "Epoch 28/75\n",
            "469/469 [==============================] - 1s 2ms/step - loss: 0.0833 - accuracy: 0.3760\n",
            "Epoch 29/75\n",
            "469/469 [==============================] - 1s 2ms/step - loss: 0.0829 - accuracy: 0.3786\n",
            "Epoch 30/75\n",
            "469/469 [==============================] - 1s 2ms/step - loss: 0.0825 - accuracy: 0.3805\n",
            "Epoch 31/75\n",
            "469/469 [==============================] - 1s 2ms/step - loss: 0.0822 - accuracy: 0.3827\n",
            "Epoch 32/75\n",
            "469/469 [==============================] - 1s 2ms/step - loss: 0.0818 - accuracy: 0.3846\n",
            "Epoch 33/75\n",
            "469/469 [==============================] - 1s 2ms/step - loss: 0.0814 - accuracy: 0.3869\n",
            "Epoch 34/75\n",
            "469/469 [==============================] - 1s 2ms/step - loss: 0.0810 - accuracy: 0.3897\n",
            "Epoch 35/75\n",
            "469/469 [==============================] - 1s 2ms/step - loss: 0.0806 - accuracy: 0.3922\n",
            "Epoch 36/75\n",
            "469/469 [==============================] - 1s 2ms/step - loss: 0.0802 - accuracy: 0.3948\n",
            "Epoch 37/75\n",
            "469/469 [==============================] - 1s 2ms/step - loss: 0.0798 - accuracy: 0.3976\n",
            "Epoch 38/75\n",
            "469/469 [==============================] - 1s 2ms/step - loss: 0.0793 - accuracy: 0.4022\n",
            "Epoch 39/75\n",
            "469/469 [==============================] - 1s 2ms/step - loss: 0.0789 - accuracy: 0.4079\n",
            "Epoch 40/75\n",
            "469/469 [==============================] - 1s 2ms/step - loss: 0.0785 - accuracy: 0.4150\n",
            "Epoch 41/75\n",
            "469/469 [==============================] - 1s 2ms/step - loss: 0.0780 - accuracy: 0.4234\n",
            "Epoch 42/75\n",
            "469/469 [==============================] - 1s 2ms/step - loss: 0.0776 - accuracy: 0.4347\n",
            "Epoch 43/75\n",
            "469/469 [==============================] - 1s 2ms/step - loss: 0.0771 - accuracy: 0.4464\n",
            "Epoch 44/75\n",
            "469/469 [==============================] - 1s 2ms/step - loss: 0.0766 - accuracy: 0.4594\n",
            "Epoch 45/75\n",
            "469/469 [==============================] - 1s 2ms/step - loss: 0.0762 - accuracy: 0.4701\n",
            "Epoch 46/75\n",
            "469/469 [==============================] - 1s 2ms/step - loss: 0.0757 - accuracy: 0.4802\n",
            "Epoch 47/75\n",
            "469/469 [==============================] - 1s 2ms/step - loss: 0.0752 - accuracy: 0.4884\n",
            "Epoch 48/75\n",
            "469/469 [==============================] - 1s 2ms/step - loss: 0.0747 - accuracy: 0.4983\n",
            "Epoch 49/75\n",
            "469/469 [==============================] - 1s 2ms/step - loss: 0.0742 - accuracy: 0.5065\n",
            "Epoch 50/75\n",
            "469/469 [==============================] - 1s 2ms/step - loss: 0.0737 - accuracy: 0.5135\n",
            "Epoch 51/75\n",
            "469/469 [==============================] - 1s 2ms/step - loss: 0.0732 - accuracy: 0.5206\n",
            "Epoch 52/75\n",
            "469/469 [==============================] - 1s 2ms/step - loss: 0.0727 - accuracy: 0.5256\n",
            "Epoch 53/75\n",
            "469/469 [==============================] - 1s 2ms/step - loss: 0.0722 - accuracy: 0.5328\n",
            "Epoch 54/75\n",
            "469/469 [==============================] - 1s 2ms/step - loss: 0.0717 - accuracy: 0.5385\n",
            "Epoch 55/75\n",
            "469/469 [==============================] - 1s 2ms/step - loss: 0.0712 - accuracy: 0.5442\n",
            "Epoch 56/75\n",
            "469/469 [==============================] - 1s 2ms/step - loss: 0.0707 - accuracy: 0.5495\n",
            "Epoch 57/75\n",
            "469/469 [==============================] - 1s 2ms/step - loss: 0.0702 - accuracy: 0.5552\n",
            "Epoch 58/75\n",
            "469/469 [==============================] - 1s 2ms/step - loss: 0.0697 - accuracy: 0.5607\n",
            "Epoch 59/75\n",
            "469/469 [==============================] - 1s 2ms/step - loss: 0.0692 - accuracy: 0.5659\n",
            "Epoch 60/75\n",
            "469/469 [==============================] - 1s 2ms/step - loss: 0.0686 - accuracy: 0.5714\n",
            "Epoch 61/75\n",
            "469/469 [==============================] - 1s 2ms/step - loss: 0.0681 - accuracy: 0.5761\n",
            "Epoch 62/75\n",
            "469/469 [==============================] - 1s 2ms/step - loss: 0.0676 - accuracy: 0.5813\n",
            "Epoch 63/75\n",
            "469/469 [==============================] - 1s 2ms/step - loss: 0.0671 - accuracy: 0.5866\n",
            "Epoch 64/75\n",
            "469/469 [==============================] - 1s 2ms/step - loss: 0.0666 - accuracy: 0.5915\n",
            "Epoch 65/75\n",
            "469/469 [==============================] - 1s 2ms/step - loss: 0.0661 - accuracy: 0.5961\n",
            "Epoch 66/75\n",
            "469/469 [==============================] - 1s 2ms/step - loss: 0.0656 - accuracy: 0.6005\n",
            "Epoch 67/75\n",
            "469/469 [==============================] - 1s 2ms/step - loss: 0.0651 - accuracy: 0.6060\n",
            "Epoch 68/75\n",
            "469/469 [==============================] - 1s 2ms/step - loss: 0.0645 - accuracy: 0.6102\n",
            "Epoch 69/75\n",
            "469/469 [==============================] - 1s 2ms/step - loss: 0.0640 - accuracy: 0.6152\n",
            "Epoch 70/75\n",
            "469/469 [==============================] - 1s 2ms/step - loss: 0.0635 - accuracy: 0.6192\n",
            "Epoch 71/75\n",
            "469/469 [==============================] - 1s 2ms/step - loss: 0.0630 - accuracy: 0.6238\n",
            "Epoch 72/75\n",
            "469/469 [==============================] - 1s 2ms/step - loss: 0.0625 - accuracy: 0.6278\n",
            "Epoch 73/75\n",
            "469/469 [==============================] - 1s 2ms/step - loss: 0.0620 - accuracy: 0.6316\n",
            "Epoch 74/75\n",
            "469/469 [==============================] - 1s 2ms/step - loss: 0.0616 - accuracy: 0.6355\n",
            "Epoch 75/75\n",
            "469/469 [==============================] - 1s 2ms/step - loss: 0.0611 - accuracy: 0.6390\n"
          ]
        }
      ]
    },
    {
      "cell_type": "code",
      "source": [
        "history=model.fit(X_train, Y_train,batch_size=128,epochs=90,verbose=1)"
      ],
      "metadata": {
        "colab": {
          "base_uri": "https://localhost:8080/"
        },
        "id": "dhgb4zI4zT-u",
        "outputId": "5e6445fc-b16b-4064-dde3-2ab2d64e383a"
      },
      "execution_count": 26,
      "outputs": [
        {
          "output_type": "stream",
          "name": "stdout",
          "text": [
            "Epoch 1/90\n",
            "469/469 [==============================] - 1s 2ms/step - loss: 0.0606 - accuracy: 0.6427\n",
            "Epoch 2/90\n",
            "469/469 [==============================] - 1s 2ms/step - loss: 0.0601 - accuracy: 0.6461\n",
            "Epoch 3/90\n",
            "469/469 [==============================] - 1s 2ms/step - loss: 0.0596 - accuracy: 0.6496\n",
            "Epoch 4/90\n",
            "469/469 [==============================] - 1s 2ms/step - loss: 0.0592 - accuracy: 0.6526\n",
            "Epoch 5/90\n",
            "469/469 [==============================] - 1s 2ms/step - loss: 0.0587 - accuracy: 0.6555\n",
            "Epoch 6/90\n",
            "469/469 [==============================] - 1s 2ms/step - loss: 0.0582 - accuracy: 0.6586\n",
            "Epoch 7/90\n",
            "469/469 [==============================] - 1s 2ms/step - loss: 0.0578 - accuracy: 0.6612\n",
            "Epoch 8/90\n",
            "469/469 [==============================] - 1s 2ms/step - loss: 0.0573 - accuracy: 0.6647\n",
            "Epoch 9/90\n",
            "469/469 [==============================] - 1s 2ms/step - loss: 0.0569 - accuracy: 0.6676\n",
            "Epoch 10/90\n",
            "469/469 [==============================] - 1s 2ms/step - loss: 0.0564 - accuracy: 0.6705\n",
            "Epoch 11/90\n",
            "469/469 [==============================] - 1s 2ms/step - loss: 0.0560 - accuracy: 0.6739\n",
            "Epoch 12/90\n",
            "469/469 [==============================] - 1s 2ms/step - loss: 0.0556 - accuracy: 0.6771\n",
            "Epoch 13/90\n",
            "469/469 [==============================] - 1s 2ms/step - loss: 0.0551 - accuracy: 0.6801\n",
            "Epoch 14/90\n",
            "469/469 [==============================] - 1s 2ms/step - loss: 0.0547 - accuracy: 0.6827\n",
            "Epoch 15/90\n",
            "469/469 [==============================] - 1s 2ms/step - loss: 0.0543 - accuracy: 0.6854\n",
            "Epoch 16/90\n",
            "469/469 [==============================] - 1s 2ms/step - loss: 0.0539 - accuracy: 0.6883\n",
            "Epoch 17/90\n",
            "469/469 [==============================] - 1s 2ms/step - loss: 0.0534 - accuracy: 0.6909\n",
            "Epoch 18/90\n",
            "469/469 [==============================] - 1s 2ms/step - loss: 0.0530 - accuracy: 0.6935\n",
            "Epoch 19/90\n",
            "469/469 [==============================] - 1s 2ms/step - loss: 0.0526 - accuracy: 0.6961\n",
            "Epoch 20/90\n",
            "469/469 [==============================] - 1s 2ms/step - loss: 0.0522 - accuracy: 0.6995\n",
            "Epoch 21/90\n",
            "469/469 [==============================] - 1s 2ms/step - loss: 0.0518 - accuracy: 0.7022\n",
            "Epoch 22/90\n",
            "469/469 [==============================] - 1s 2ms/step - loss: 0.0514 - accuracy: 0.7050\n",
            "Epoch 23/90\n",
            "469/469 [==============================] - 1s 2ms/step - loss: 0.0510 - accuracy: 0.7083\n",
            "Epoch 24/90\n",
            "469/469 [==============================] - 1s 2ms/step - loss: 0.0507 - accuracy: 0.7111\n",
            "Epoch 25/90\n",
            "469/469 [==============================] - 1s 2ms/step - loss: 0.0503 - accuracy: 0.7138\n",
            "Epoch 26/90\n",
            "469/469 [==============================] - 1s 2ms/step - loss: 0.0499 - accuracy: 0.7163\n",
            "Epoch 27/90\n",
            "469/469 [==============================] - 1s 2ms/step - loss: 0.0495 - accuracy: 0.7194\n",
            "Epoch 28/90\n",
            "469/469 [==============================] - 1s 2ms/step - loss: 0.0492 - accuracy: 0.7222\n",
            "Epoch 29/90\n",
            "469/469 [==============================] - 1s 2ms/step - loss: 0.0488 - accuracy: 0.7248\n",
            "Epoch 30/90\n",
            "469/469 [==============================] - 1s 2ms/step - loss: 0.0485 - accuracy: 0.7279\n",
            "Epoch 31/90\n",
            "469/469 [==============================] - 1s 2ms/step - loss: 0.0481 - accuracy: 0.7304\n",
            "Epoch 32/90\n",
            "469/469 [==============================] - 1s 2ms/step - loss: 0.0478 - accuracy: 0.7330\n",
            "Epoch 33/90\n",
            "469/469 [==============================] - 1s 2ms/step - loss: 0.0474 - accuracy: 0.7357\n",
            "Epoch 34/90\n",
            "469/469 [==============================] - 1s 2ms/step - loss: 0.0471 - accuracy: 0.7381\n",
            "Epoch 35/90\n",
            "469/469 [==============================] - 1s 2ms/step - loss: 0.0467 - accuracy: 0.7416\n",
            "Epoch 36/90\n",
            "469/469 [==============================] - 1s 2ms/step - loss: 0.0464 - accuracy: 0.7441\n",
            "Epoch 37/90\n",
            "469/469 [==============================] - 1s 2ms/step - loss: 0.0461 - accuracy: 0.7469\n",
            "Epoch 38/90\n",
            "469/469 [==============================] - 1s 2ms/step - loss: 0.0457 - accuracy: 0.7495\n",
            "Epoch 39/90\n",
            "469/469 [==============================] - 1s 3ms/step - loss: 0.0454 - accuracy: 0.7523\n",
            "Epoch 40/90\n",
            "469/469 [==============================] - 1s 3ms/step - loss: 0.0451 - accuracy: 0.7546\n",
            "Epoch 41/90\n",
            "469/469 [==============================] - 1s 2ms/step - loss: 0.0448 - accuracy: 0.7575\n",
            "Epoch 42/90\n",
            "469/469 [==============================] - 1s 2ms/step - loss: 0.0445 - accuracy: 0.7597\n",
            "Epoch 43/90\n",
            "469/469 [==============================] - 1s 2ms/step - loss: 0.0442 - accuracy: 0.7627\n",
            "Epoch 44/90\n",
            "469/469 [==============================] - 2s 3ms/step - loss: 0.0439 - accuracy: 0.7653\n",
            "Epoch 45/90\n",
            "469/469 [==============================] - 1s 2ms/step - loss: 0.0436 - accuracy: 0.7674\n",
            "Epoch 46/90\n",
            "469/469 [==============================] - 1s 2ms/step - loss: 0.0433 - accuracy: 0.7701\n",
            "Epoch 47/90\n",
            "469/469 [==============================] - 1s 2ms/step - loss: 0.0430 - accuracy: 0.7724\n",
            "Epoch 48/90\n",
            "469/469 [==============================] - 1s 3ms/step - loss: 0.0427 - accuracy: 0.7751\n",
            "Epoch 49/90\n",
            "469/469 [==============================] - 1s 2ms/step - loss: 0.0424 - accuracy: 0.7773\n",
            "Epoch 50/90\n",
            "469/469 [==============================] - 1s 2ms/step - loss: 0.0421 - accuracy: 0.7800\n",
            "Epoch 51/90\n",
            "469/469 [==============================] - 1s 2ms/step - loss: 0.0418 - accuracy: 0.7824\n",
            "Epoch 52/90\n",
            "469/469 [==============================] - 1s 2ms/step - loss: 0.0416 - accuracy: 0.7850\n",
            "Epoch 53/90\n",
            "469/469 [==============================] - 1s 2ms/step - loss: 0.0413 - accuracy: 0.7871\n",
            "Epoch 54/90\n",
            "469/469 [==============================] - 1s 2ms/step - loss: 0.0410 - accuracy: 0.7893\n",
            "Epoch 55/90\n",
            "469/469 [==============================] - 1s 2ms/step - loss: 0.0408 - accuracy: 0.7918\n",
            "Epoch 56/90\n",
            "469/469 [==============================] - 1s 2ms/step - loss: 0.0405 - accuracy: 0.7937\n",
            "Epoch 57/90\n",
            "469/469 [==============================] - 1s 2ms/step - loss: 0.0402 - accuracy: 0.7958\n",
            "Epoch 58/90\n",
            "469/469 [==============================] - 1s 2ms/step - loss: 0.0400 - accuracy: 0.7976\n",
            "Epoch 59/90\n",
            "469/469 [==============================] - 1s 2ms/step - loss: 0.0397 - accuracy: 0.7993\n",
            "Epoch 60/90\n",
            "469/469 [==============================] - 1s 2ms/step - loss: 0.0395 - accuracy: 0.8011\n",
            "Epoch 61/90\n",
            "469/469 [==============================] - 1s 2ms/step - loss: 0.0392 - accuracy: 0.8028\n",
            "Epoch 62/90\n",
            "469/469 [==============================] - 1s 2ms/step - loss: 0.0390 - accuracy: 0.8048\n",
            "Epoch 63/90\n",
            "469/469 [==============================] - 1s 2ms/step - loss: 0.0387 - accuracy: 0.8063\n",
            "Epoch 64/90\n",
            "469/469 [==============================] - 1s 2ms/step - loss: 0.0385 - accuracy: 0.8080\n",
            "Epoch 65/90\n",
            "469/469 [==============================] - 1s 2ms/step - loss: 0.0383 - accuracy: 0.8095\n",
            "Epoch 66/90\n",
            "469/469 [==============================] - 1s 2ms/step - loss: 0.0380 - accuracy: 0.8114\n",
            "Epoch 67/90\n",
            "469/469 [==============================] - 1s 2ms/step - loss: 0.0378 - accuracy: 0.8127\n",
            "Epoch 68/90\n",
            "469/469 [==============================] - 1s 2ms/step - loss: 0.0376 - accuracy: 0.8142\n",
            "Epoch 69/90\n",
            "469/469 [==============================] - 1s 2ms/step - loss: 0.0373 - accuracy: 0.8154\n",
            "Epoch 70/90\n",
            "469/469 [==============================] - 1s 2ms/step - loss: 0.0371 - accuracy: 0.8166\n",
            "Epoch 71/90\n",
            "469/469 [==============================] - 1s 2ms/step - loss: 0.0369 - accuracy: 0.8181\n",
            "Epoch 72/90\n",
            "469/469 [==============================] - 1s 2ms/step - loss: 0.0367 - accuracy: 0.8196\n",
            "Epoch 73/90\n",
            "469/469 [==============================] - 1s 2ms/step - loss: 0.0365 - accuracy: 0.8206\n",
            "Epoch 74/90\n",
            "469/469 [==============================] - 1s 2ms/step - loss: 0.0362 - accuracy: 0.8219\n",
            "Epoch 75/90\n",
            "469/469 [==============================] - 1s 2ms/step - loss: 0.0360 - accuracy: 0.8229\n",
            "Epoch 76/90\n",
            "469/469 [==============================] - 1s 2ms/step - loss: 0.0358 - accuracy: 0.8240\n",
            "Epoch 77/90\n",
            "469/469 [==============================] - 1s 2ms/step - loss: 0.0356 - accuracy: 0.8251\n",
            "Epoch 78/90\n",
            "469/469 [==============================] - 1s 2ms/step - loss: 0.0354 - accuracy: 0.8263\n",
            "Epoch 79/90\n",
            "469/469 [==============================] - 1s 2ms/step - loss: 0.0352 - accuracy: 0.8274\n",
            "Epoch 80/90\n",
            "469/469 [==============================] - 1s 2ms/step - loss: 0.0350 - accuracy: 0.8286\n",
            "Epoch 81/90\n",
            "469/469 [==============================] - 1s 2ms/step - loss: 0.0348 - accuracy: 0.8296\n",
            "Epoch 82/90\n",
            "469/469 [==============================] - 1s 2ms/step - loss: 0.0346 - accuracy: 0.8309\n",
            "Epoch 83/90\n",
            "469/469 [==============================] - 1s 2ms/step - loss: 0.0344 - accuracy: 0.8321\n",
            "Epoch 84/90\n",
            "469/469 [==============================] - 1s 2ms/step - loss: 0.0343 - accuracy: 0.8329\n",
            "Epoch 85/90\n",
            "469/469 [==============================] - 1s 2ms/step - loss: 0.0341 - accuracy: 0.8338\n",
            "Epoch 86/90\n",
            "469/469 [==============================] - 1s 2ms/step - loss: 0.0339 - accuracy: 0.8347\n",
            "Epoch 87/90\n",
            "469/469 [==============================] - 1s 2ms/step - loss: 0.0337 - accuracy: 0.8354\n",
            "Epoch 88/90\n",
            "469/469 [==============================] - 1s 2ms/step - loss: 0.0335 - accuracy: 0.8363\n",
            "Epoch 89/90\n",
            "469/469 [==============================] - 1s 2ms/step - loss: 0.0333 - accuracy: 0.8371\n",
            "Epoch 90/90\n",
            "469/469 [==============================] - 1s 2ms/step - loss: 0.0332 - accuracy: 0.8378\n"
          ]
        }
      ]
    },
    {
      "cell_type": "code",
      "source": [
        "plt.plot(history.history['accuracy'])\n",
        "plt.title('epoch- accuracy')\n",
        "plt.ylabel('accuracy')\n",
        "plt.xlabel('epoch')\n",
        "plt.show()"
      ],
      "metadata": {
        "colab": {
          "base_uri": "https://localhost:8080/",
          "height": 295
        },
        "id": "7RA_wXIPyarD",
        "outputId": "a0cc8a90-09b3-4a86-9b21-5112fcb45e53"
      },
      "execution_count": 29,
      "outputs": [
        {
          "output_type": "display_data",
          "data": {
            "image/png": "[encoded data removed]",
            "text/plain": [
              "<Figure size 432x288 with 1 Axes>"
            ]
          },
          "metadata": {
            "needs_background": "light"
          }
        }
      ]
    }
  ]
}